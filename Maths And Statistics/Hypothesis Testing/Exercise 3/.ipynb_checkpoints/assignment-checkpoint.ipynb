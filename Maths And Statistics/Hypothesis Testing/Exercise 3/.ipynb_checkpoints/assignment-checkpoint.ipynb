{
 "cells": [
  {
   "cell_type": "markdown",
   "id": "d4c0260f",
   "metadata": {},
   "source": [
    "## Problem Statement\n",
    "\n",
    "An e-commerce company is evaluating two different website designs to see which one results in higher customer engagement. Design A is the current design, while Design B incorporates new features aimed at improving user experience. The company hypothesizes that Design B will lead to a higher average time spent on the website by users.\n",
    "\n",
    "**Datasets:**\n",
    "- current_design.csv: Contains data for user interactions with the current website design (Design A), with columns user_id and time_spent_minutes.\n",
    "- new_design.csv: Contains data for user interactions with the new website design (Design B), with columns user_id and time_spent_minutes.\n",
    "\n",
    "**Objective:**\n",
    "- To determine whether Design B results in a higher average time spent on the website compared to Design A."
   ]
  },
  {
   "cell_type": "code",
   "execution_count": null,
   "id": "39a3e359",
   "metadata": {},
   "outputs": [],
   "source": []
  },
  {
   "cell_type": "markdown",
   "id": "b946b9ad",
   "metadata": {},
   "source": [
    "**Steps to perform:**\n",
    "- Set the null and alternate hypothesis for this analysis.\n",
    "- Load the datasets current_design.csv and new_design.csv.\n",
    "- Calculate the mean and standard deviation of the time spent for both designs.\n",
    "- Determine the sizes of both groups.\n",
    "- Calculate the z-score to compare the means of both groups.\n",
    "- Set the significance level (alpha) at 5% for a right-tailed test.\n",
    "- Calculate the critical z-value for the right-tailed test at the 5% significance level.\n",
    "- Compare the calculated z-score with the critical z-value to decide whether to reject the null hypothesis.\n",
    "- Write down your observations in the end."
   ]
  },
  {
   "cell_type": "markdown",
   "id": "ae3dfabc",
   "metadata": {},
   "source": [
    "**Import Necessary Libraries**"
   ]
  },
  {
   "cell_type": "code",
   "execution_count": 1,
   "id": "55ce8a7f",
   "metadata": {},
   "outputs": [],
   "source": [
    "import pandas as pd\n",
    "import numpy as np\n",
    "from scipy import stats"
   ]
  },
  {
   "cell_type": "markdown",
   "id": "659d9a03",
   "metadata": {},
   "source": [
    "**Define hypothesis**\n",
    "\n"
   ]
  },
  {
   "cell_type": "markdown",
   "id": "c8881e5a-5100-4240-aa88-3c664829cab7",
   "metadata": {},
   "source": [
    "#### Null hypothesis(Ho): Design B doesn't lead to higher average time spent than Design A.\n",
    "#### Alternate Hypothesis(Ha): Design B's average time spent is more than Design A."
   ]
  },
  {
   "cell_type": "markdown",
   "id": "701b1225",
   "metadata": {},
   "source": [
    "**1: Load the datasets**"
   ]
  },
  {
   "cell_type": "code",
   "execution_count": 2,
   "id": "091fccee",
   "metadata": {},
   "outputs": [
    {
     "name": "stdout",
     "output_type": "stream",
     "text": [
      "(100, 2)\n"
     ]
    },
    {
     "data": {
      "text/html": [
       "<div>\n",
       "<style scoped>\n",
       "    .dataframe tbody tr th:only-of-type {\n",
       "        vertical-align: middle;\n",
       "    }\n",
       "\n",
       "    .dataframe tbody tr th {\n",
       "        vertical-align: top;\n",
       "    }\n",
       "\n",
       "    .dataframe thead th {\n",
       "        text-align: right;\n",
       "    }\n",
       "</style>\n",
       "<table border=\"1\" class=\"dataframe\">\n",
       "  <thead>\n",
       "    <tr style=\"text-align: right;\">\n",
       "      <th></th>\n",
       "      <th>user_id</th>\n",
       "      <th>time_spent_minutes</th>\n",
       "    </tr>\n",
       "  </thead>\n",
       "  <tbody>\n",
       "    <tr>\n",
       "      <th>0</th>\n",
       "      <td>C001</td>\n",
       "      <td>5.93</td>\n",
       "    </tr>\n",
       "    <tr>\n",
       "      <th>1</th>\n",
       "      <td>C002</td>\n",
       "      <td>5.21</td>\n",
       "    </tr>\n",
       "    <tr>\n",
       "      <th>2</th>\n",
       "      <td>C003</td>\n",
       "      <td>5.07</td>\n",
       "    </tr>\n",
       "    <tr>\n",
       "      <th>3</th>\n",
       "      <td>C004</td>\n",
       "      <td>5.06</td>\n",
       "    </tr>\n",
       "    <tr>\n",
       "      <th>4</th>\n",
       "      <td>C005</td>\n",
       "      <td>6.33</td>\n",
       "    </tr>\n",
       "  </tbody>\n",
       "</table>\n",
       "</div>"
      ],
      "text/plain": [
       "  user_id  time_spent_minutes\n",
       "0    C001                5.93\n",
       "1    C002                5.21\n",
       "2    C003                5.07\n",
       "3    C004                5.06\n",
       "4    C005                6.33"
      ]
     },
     "execution_count": 2,
     "metadata": {},
     "output_type": "execute_result"
    }
   ],
   "source": [
    "current_design = pd.read_csv('current_design.csv')\n",
    "print(current_design.shape)\n",
    "current_design.head()"
   ]
  },
  {
   "cell_type": "code",
   "execution_count": 3,
   "id": "b3787dce-cc6e-4f12-b0cd-db55f625a2ba",
   "metadata": {},
   "outputs": [
    {
     "name": "stdout",
     "output_type": "stream",
     "text": [
      "(100, 2)\n"
     ]
    },
    {
     "data": {
      "text/html": [
       "<div>\n",
       "<style scoped>\n",
       "    .dataframe tbody tr th:only-of-type {\n",
       "        vertical-align: middle;\n",
       "    }\n",
       "\n",
       "    .dataframe tbody tr th {\n",
       "        vertical-align: top;\n",
       "    }\n",
       "\n",
       "    .dataframe thead th {\n",
       "        text-align: right;\n",
       "    }\n",
       "</style>\n",
       "<table border=\"1\" class=\"dataframe\">\n",
       "  <thead>\n",
       "    <tr style=\"text-align: right;\">\n",
       "      <th></th>\n",
       "      <th>user_id</th>\n",
       "      <th>time_spent_minutes</th>\n",
       "    </tr>\n",
       "  </thead>\n",
       "  <tbody>\n",
       "    <tr>\n",
       "      <th>0</th>\n",
       "      <td>T001</td>\n",
       "      <td>7.49</td>\n",
       "    </tr>\n",
       "    <tr>\n",
       "      <th>1</th>\n",
       "      <td>T002</td>\n",
       "      <td>7.37</td>\n",
       "    </tr>\n",
       "    <tr>\n",
       "      <th>2</th>\n",
       "      <td>T003</td>\n",
       "      <td>7.32</td>\n",
       "    </tr>\n",
       "    <tr>\n",
       "      <th>3</th>\n",
       "      <td>T004</td>\n",
       "      <td>6.85</td>\n",
       "    </tr>\n",
       "    <tr>\n",
       "      <th>4</th>\n",
       "      <td>T005</td>\n",
       "      <td>7.10</td>\n",
       "    </tr>\n",
       "  </tbody>\n",
       "</table>\n",
       "</div>"
      ],
      "text/plain": [
       "  user_id  time_spent_minutes\n",
       "0    T001                7.49\n",
       "1    T002                7.37\n",
       "2    T003                7.32\n",
       "3    T004                6.85\n",
       "4    T005                7.10"
      ]
     },
     "execution_count": 3,
     "metadata": {},
     "output_type": "execute_result"
    }
   ],
   "source": [
    "new_design = pd.read_csv('new_design.csv')\n",
    "print(new_design.shape)\n",
    "new_design.head()"
   ]
  },
  {
   "cell_type": "markdown",
   "id": "66ef2266",
   "metadata": {},
   "source": [
    "**2: Calculate the mean and standard deviation of the time spent for both designs.**"
   ]
  },
  {
   "cell_type": "code",
   "execution_count": 7,
   "id": "c074aa36",
   "metadata": {},
   "outputs": [
    {
     "name": "stdout",
     "output_type": "stream",
     "text": [
      "Control Mean:  6.015199999999998\n",
      "Control Std Dev:  0.6182550877553322\n",
      "Control Size:  100\n"
     ]
    }
   ],
   "source": [
    "#control statistics\n",
    "control_mean=current_design.time_spent_minutes.mean()\n",
    "print(\"Control Mean: \",control_mean)\n",
    "control_std=current_design.time_spent_minutes.std()\n",
    "print(\"Control Std Dev: \",control_std)\n",
    "control_size=current_design.shape[0]\n",
    "print(\"Control Size: \",control_size)"
   ]
  },
  {
   "cell_type": "code",
   "execution_count": 8,
   "id": "bbadf26f",
   "metadata": {},
   "outputs": [
    {
     "name": "stdout",
     "output_type": "stream",
     "text": [
      "Control Mean:  8.062599999999998\n",
      "Test Std Dev:  0.9025257711981236\n",
      "Test Size:  100\n"
     ]
    }
   ],
   "source": [
    "#test statistics\n",
    "test_mean=new_design.time_spent_minutes.mean()\n",
    "print(\"Control Mean: \",test_mean)\n",
    "test_std=new_design.time_spent_minutes.std()\n",
    "print(\"Test Std Dev: \",test_std)\n",
    "test_size=new_design.shape[0]\n",
    "print(\"Test Size: \",test_size)\n"
   ]
  },
  {
   "cell_type": "markdown",
   "id": "534af8ed",
   "metadata": {},
   "source": [
    "**3: Test using rejection region (i.e. critical z value)**"
   ]
  },
  {
   "cell_type": "code",
   "execution_count": 11,
   "id": "ea9c7905",
   "metadata": {},
   "outputs": [
    {
     "name": "stdout",
     "output_type": "stream",
     "text": [
      "Z Score:  18.715151117476786\n"
     ]
    }
   ],
   "source": [
    "a=control_std**2/control_size\n",
    "b=test_std**2/test_size\n",
    "z_score=abs((control_mean-test_mean)/np.sqrt(a+b))\n",
    "print(\"Z Score: \",z_score)"
   ]
  },
  {
   "cell_type": "code",
   "execution_count": 16,
   "id": "a8b87da6-9230-44f1-b0be-73e22b71e706",
   "metadata": {},
   "outputs": [
    {
     "data": {
      "text/plain": [
       "1.644853626951472"
      ]
     },
     "execution_count": 16,
     "metadata": {},
     "output_type": "execute_result"
    }
   ],
   "source": [
    "alpha=0.05\n",
    "z_critical=stats.norm.ppf(1-alpha)\n",
    "z_critical"
   ]
  },
  {
   "cell_type": "code",
   "execution_count": 15,
   "id": "a5b27130-6345-4d60-bc55-719f108cf88e",
   "metadata": {},
   "outputs": [
    {
     "data": {
      "text/plain": [
       "True"
      ]
     },
     "execution_count": 15,
     "metadata": {},
     "output_type": "execute_result"
    }
   ],
   "source": [
    "z_score>z_critical"
   ]
  },
  {
   "cell_type": "markdown",
   "id": "9b2d4612",
   "metadata": {},
   "source": [
    "### Observations and Conclusion\n",
    "\n"
   ]
  },
  {
   "cell_type": "markdown",
   "id": "4779633d-51db-4bdc-bf8b-2d9573f86416",
   "metadata": {},
   "source": [
    "#### Since, The Z score is greater than Z critical we have a strong evidence to reject the null hypothesis. And we can conclude that Design B has a higher average time spent compared to Design A."
   ]
  }
 ],
 "metadata": {
  "kernelspec": {
   "display_name": "Python 3 (ipykernel)",
   "language": "python",
   "name": "python3"
  },
  "language_info": {
   "codemirror_mode": {
    "name": "ipython",
    "version": 3
   },
   "file_extension": ".py",
   "mimetype": "text/x-python",
   "name": "python",
   "nbconvert_exporter": "python",
   "pygments_lexer": "ipython3",
   "version": "3.12.2"
  }
 },
 "nbformat": 4,
 "nbformat_minor": 5
}
